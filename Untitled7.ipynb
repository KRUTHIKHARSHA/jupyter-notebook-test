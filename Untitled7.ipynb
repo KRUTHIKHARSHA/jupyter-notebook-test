{
 "cells": [
  {
   "cell_type": "code",
   "execution_count": 5,
   "id": "d8b2f1a6-c01f-4fdd-a675-de0b4eb2e3fc",
   "metadata": {},
   "outputs": [],
   "source": [
    "#1.To change the rate and volume"
   ]
  },
  {
   "cell_type": "code",
   "execution_count": 1,
   "id": "f4b4d88c-c238-4b58-b406-28af5d8ae342",
   "metadata": {},
   "outputs": [
    {
     "name": "stdout",
     "output_type": "stream",
     "text": [
      "Voice: Microsoft David Desktop - English (United States), ID: HKEY_LOCAL_MACHINE\\SOFTWARE\\Microsoft\\Speech\\Voices\\Tokens\\TTS_MS_EN-US_DAVID_11.0\n",
      "Voice: Microsoft Zira Desktop - English (United States), ID: HKEY_LOCAL_MACHINE\\SOFTWARE\\Microsoft\\Speech\\Voices\\Tokens\\TTS_MS_EN-US_ZIRA_11.0\n"
     ]
    }
   ],
   "source": [
    "\n",
    "import pyttsx3\n",
    "\n",
    "engine = pyttsx3.init()\n",
    "\n",
    "engine.setProperty('rate', 150)    # Speed percent (can go over 100)\n",
    "engine.setProperty('volume', 0.9)  # Volume 0-1\n",
    "\n",
    "voices = engine.getProperty('voices')\n",
    "for voice in voices:\n",
    "    print(f\"Voice: {voice.name}, ID: {voice.id}\")\n",
    "\n",
    "engine.setProperty('voice', voices[0].id)  # Changing index changes voices\n",
    "\n",
    "text = \"Hello, how are you today?\"\n",
    "\n",
    "engine.say(text)\n",
    "\n",
    "engine.runAndWait()"
   ]
  },
  {
   "cell_type": "code",
   "execution_count": 3,
   "id": "d4a9f0ec-0023-4e06-8883-270ae3189aa4",
   "metadata": {},
   "outputs": [
    {
     "name": "stdout",
     "output_type": "stream",
     "text": [
      "Collecting pyttsx3\n",
      "  Downloading pyttsx3-2.91-py3-none-any.whl.metadata (3.8 kB)\n",
      "Collecting comtypes (from pyttsx3)\n",
      "  Downloading comtypes-1.4.6-py3-none-any.whl.metadata (6.4 kB)\n",
      "Collecting pypiwin32 (from pyttsx3)\n",
      "  Downloading pypiwin32-223-py3-none-any.whl.metadata (236 bytes)\n",
      "Requirement already satisfied: pywin32 in c:\\users\\ravi kumar\\anaconda3\\lib\\site-packages (from pyttsx3) (305.1)\n",
      "Downloading pyttsx3-2.91-py3-none-any.whl (33 kB)\n",
      "Downloading comtypes-1.4.6-py3-none-any.whl (222 kB)\n",
      "   ---------------------------------------- 0.0/222.1 kB ? eta -:--:--\n",
      "   ----------- ---------------------------- 61.4/222.1 kB 1.7 MB/s eta 0:00:01\n",
      "   --------------------------- ------------ 153.6/222.1 kB 1.8 MB/s eta 0:00:01\n",
      "   ---------------------------------------- 222.1/222.1 kB 1.9 MB/s eta 0:00:00\n",
      "Downloading pypiwin32-223-py3-none-any.whl (1.7 kB)\n",
      "Installing collected packages: pypiwin32, comtypes, pyttsx3\n",
      "Successfully installed comtypes-1.4.6 pypiwin32-223 pyttsx3-2.91\n",
      "Note: you may need to restart the kernel to use updated packages.\n"
     ]
    }
   ],
   "source": [
    "pip install pyttsx3"
   ]
  },
  {
   "cell_type": "code",
   "execution_count": 7,
   "id": "ba803db8-77bc-471a-9b26-d341c3a6c5c9",
   "metadata": {},
   "outputs": [],
   "source": [
    "#2.to choose voices and adjust the speech rate\n"
   ]
  },
  {
   "cell_type": "code",
   "execution_count": 2,
   "id": "7d530e36-f2a2-48fc-95dd-6a6c60f246e1",
   "metadata": {},
   "outputs": [],
   "source": [
    "import tkinter as tk\n",
    "from tkinter import ttk\n",
    "from gtts import gTTS\n",
    "import pyttsx3\n",
    "import os\n",
    "\n",
    "# Initialize pyttsx3 engine\n",
    "engine = pyttsx3.init()\n",
    "\n",
    "# Get a list of available voices\n",
    "voices = engine.getProperty('voices')\n",
    "\n",
    "# Define the convert_text_to_speech function\n",
    "def convert_text_to_speech():\n",
    "    # Retrieve the text from the text entry field\n",
    "    text = text_entry.get(\"1.0\", tk.END).strip()\n",
    "\n",
    "    # Check which engine type is selected\n",
    "    if engine_type.get() == \"Google TTS\":\n",
    "        # Use gTTS to convert the text to speech and save the output as an MP3 file\n",
    "        tts = gTTS(text=text, lang='en', slow=False)\n",
    "        tts.save(\"output.mp3\")\n",
    "        # Play the file using the operating system's default media player\n",
    "        os.system(\"start output.mp3\")  # On Windows\n",
    "    else:\n",
    "        # Set the voice and speech rate using the selected values from the combobox and slider\n",
    "        engine.setProperty('voice', voices[voice_combobox.current()].id)\n",
    "        engine.setProperty('rate', rate_slider.get())\n",
    "        # Use pyttsx3 to convert the text to speech and play it\n",
    "        engine.say(text)\n",
    "        engine.runAndWait()\n",
    "\n",
    "# Create the GUI window\n",
    "root = tk.Tk()\n",
    "root.title(\"Text to Speech Converter\")\n",
    "\n",
    "# Create a label and text entry field for entering the text to be converted\n",
    "tk.Label(root, text=\"Enter text:\").pack()\n",
    "text_entry = tk.Text(root, height=10, width=50)\n",
    "text_entry.pack()\n",
    "\n",
    "# Create two radio buttons for selecting the engine type\n",
    "engine_type = tk.StringVar(value=\"Google TTS\")\n",
    "tk.Radiobutton(root, text=\"Google TTS\", variable=engine_type, value=\"Google TTS\").pack()\n",
    "tk.Radiobutton(root, text=\"pyttsx3\", variable=engine_type, value=\"pyttsx3\").pack()\n",
    "\n",
    "# Create a combobox for selecting the voice (only applicable when pyttsx3 is selected)\n",
    "tk.Label(root, text=\"Select voice (pyttsx3):\").pack()\n",
    "voice_combobox = ttk.Combobox(root, values=[voice.name for voice in voices])\n",
    "voice_combobox.pack()\n",
    "\n",
    "# Create a slider for adjusting the speech rate (only applicable when pyttsx3 is selected)\n",
    "tk.Label(root, text=\"Speech rate (pyttsx3):\").pack()\n",
    "rate_slider = tk.Scale(root, from_=50, to_=300, orient=tk.HORIZONTAL)\n",
    "rate_slider.set(150)\n",
    "rate_slider.pack()\n",
    "\n",
    "# Create a \"Convert\" button that calls the convert_text_to_speech function when clicked\n",
    "convert_button = tk.Button(root, text=\"Convert\", command=convert_text_to_speech)\n",
    "convert_button.pack()\n",
    "\n",
    "# Start the GUI event loop\n",
    "root.mainloop()"
   ]
  },
  {
   "cell_type": "code",
   "execution_count": 9,
   "id": "2582e450-8f9b-4e66-8776-801ad0dd0d15",
   "metadata": {},
   "outputs": [
    {
     "name": "stdout",
     "output_type": "stream",
     "text": [
      "Collecting gtts\n",
      "  Downloading gTTS-2.5.3-py3-none-any.whl.metadata (4.1 kB)\n",
      "Requirement already satisfied: requests<3,>=2.27 in c:\\users\\ravi kumar\\anaconda3\\lib\\site-packages (from gtts) (2.31.0)\n",
      "Requirement already satisfied: click<8.2,>=7.1 in c:\\users\\ravi kumar\\anaconda3\\lib\\site-packages (from gtts) (8.1.7)\n",
      "Requirement already satisfied: colorama in c:\\users\\ravi kumar\\anaconda3\\lib\\site-packages (from click<8.2,>=7.1->gtts) (0.4.6)\n",
      "Requirement already satisfied: charset-normalizer<4,>=2 in c:\\users\\ravi kumar\\anaconda3\\lib\\site-packages (from requests<3,>=2.27->gtts) (2.0.4)\n",
      "Requirement already satisfied: idna<4,>=2.5 in c:\\users\\ravi kumar\\anaconda3\\lib\\site-packages (from requests<3,>=2.27->gtts) (3.4)\n",
      "Requirement already satisfied: urllib3<3,>=1.21.1 in c:\\users\\ravi kumar\\anaconda3\\lib\\site-packages (from requests<3,>=2.27->gtts) (2.0.7)\n",
      "Requirement already satisfied: certifi>=2017.4.17 in c:\\users\\ravi kumar\\anaconda3\\lib\\site-packages (from requests<3,>=2.27->gtts) (2024.2.2)\n",
      "Downloading gTTS-2.5.3-py3-none-any.whl (29 kB)\n",
      "Installing collected packages: gtts\n",
      "Successfully installed gtts-2.5.3\n",
      "Note: you may need to restart the kernel to use updated packages.\n"
     ]
    }
   ],
   "source": [
    "pip install gtts"
   ]
  },
  {
   "cell_type": "code",
   "execution_count": 10,
   "id": "364acb2c-d252-405e-b3e4-64c115d1cf59",
   "metadata": {},
   "outputs": [
    {
     "name": "stdout",
     "output_type": "stream",
     "text": [
      "Requirement already satisfied: gtts in c:\\users\\ravi kumar\\anaconda3\\lib\\site-packages (2.5.3)\n",
      "Requirement already satisfied: requests<3,>=2.27 in c:\\users\\ravi kumar\\anaconda3\\lib\\site-packages (from gtts) (2.31.0)\n",
      "Requirement already satisfied: click<8.2,>=7.1 in c:\\users\\ravi kumar\\anaconda3\\lib\\site-packages (from gtts) (8.1.7)\n",
      "Requirement already satisfied: colorama in c:\\users\\ravi kumar\\anaconda3\\lib\\site-packages (from click<8.2,>=7.1->gtts) (0.4.6)\n",
      "Requirement already satisfied: charset-normalizer<4,>=2 in c:\\users\\ravi kumar\\anaconda3\\lib\\site-packages (from requests<3,>=2.27->gtts) (2.0.4)\n",
      "Requirement already satisfied: idna<4,>=2.5 in c:\\users\\ravi kumar\\anaconda3\\lib\\site-packages (from requests<3,>=2.27->gtts) (3.4)\n",
      "Requirement already satisfied: urllib3<3,>=1.21.1 in c:\\users\\ravi kumar\\anaconda3\\lib\\site-packages (from requests<3,>=2.27->gtts) (2.0.7)\n",
      "Requirement already satisfied: certifi>=2017.4.17 in c:\\users\\ravi kumar\\anaconda3\\lib\\site-packages (from requests<3,>=2.27->gtts) (2024.2.2)\n"
     ]
    }
   ],
   "source": [
    "!pip install gtts"
   ]
  },
  {
   "cell_type": "code",
   "execution_count": 11,
   "id": "6a348bb3-2313-4145-aae9-9e3f9f0d56c8",
   "metadata": {},
   "outputs": [
    {
     "name": "stdout",
     "output_type": "stream",
     "text": [
      "pip 23.3.1 from C:\\Users\\Ravi kumar\\anaconda3\\Lib\\site-packages\\pip (python 3.11)\n",
      "\n",
      "Note: you may need to restart the kernel to use updated packages.\n"
     ]
    }
   ],
   "source": [
    "pip --version"
   ]
  },
  {
   "cell_type": "code",
   "execution_count": 12,
   "id": "9be92f48-37ca-4ab8-b2d8-951e6a65ebb6",
   "metadata": {},
   "outputs": [
    {
     "name": "stdout",
     "output_type": "stream",
     "text": [
      "Requirement already satisfied: pip in c:\\users\\ravi kumar\\anaconda3\\lib\\site-packages (23.3.1)\n",
      "Collecting pip\n",
      "  Downloading pip-24.2-py3-none-any.whl.metadata (3.6 kB)\n",
      "Downloading pip-24.2-py3-none-any.whl (1.8 MB)\n",
      "   ---------------------------------------- 0.0/1.8 MB ? eta -:--:--\n",
      "   ---------------------------------------- 0.0/1.8 MB ? eta -:--:--\n",
      "   - -------------------------------------- 0.1/1.8 MB 812.7 kB/s eta 0:00:03\n",
      "   --- ------------------------------------ 0.2/1.8 MB 1.3 MB/s eta 0:00:02\n",
      "   ------- -------------------------------- 0.3/1.8 MB 1.9 MB/s eta 0:00:01\n",
      "   -------- ------------------------------- 0.4/1.8 MB 1.9 MB/s eta 0:00:01\n",
      "   ------------ --------------------------- 0.6/1.8 MB 2.3 MB/s eta 0:00:01\n",
      "   ---------------- ----------------------- 0.7/1.8 MB 2.4 MB/s eta 0:00:01\n",
      "   ------------------ --------------------- 0.8/1.8 MB 2.5 MB/s eta 0:00:01\n",
      "   --------------------- ------------------ 1.0/1.8 MB 2.5 MB/s eta 0:00:01\n",
      "   ------------------------- -------------- 1.2/1.8 MB 2.7 MB/s eta 0:00:01\n",
      "   ----------------------------- ---------- 1.4/1.8 MB 2.9 MB/s eta 0:00:01\n",
      "   -------------------------------- ------- 1.5/1.8 MB 2.9 MB/s eta 0:00:01\n",
      "   ------------------------------------ --- 1.6/1.8 MB 2.9 MB/s eta 0:00:01\n",
      "   ---------------------------------------  1.8/1.8 MB 3.0 MB/s eta 0:00:01\n",
      "   ---------------------------------------- 1.8/1.8 MB 3.0 MB/s eta 0:00:00\n",
      "Installing collected packages: pip\n",
      "  Attempting uninstall: pip\n",
      "    Found existing installation: pip 23.3.1\n",
      "    Uninstalling pip-23.3.1:\n",
      "      Successfully uninstalled pip-23.3.1\n",
      "Successfully installed pip-24.2\n",
      "Note: you may need to restart the kernel to use updated packages.\n"
     ]
    }
   ],
   "source": [
    "pip install --upgrade pip"
   ]
  },
  {
   "cell_type": "code",
   "execution_count": 16,
   "id": "e45f9b3c-2876-41c0-83d0-6a38f55f58f6",
   "metadata": {},
   "outputs": [],
   "source": [
    "#3 Text to speech hindi import pyttsx3"
   ]
  },
  {
   "cell_type": "code",
   "execution_count": 3,
   "id": "8f4ea1a1-d80f-407c-a9fc-2a0b564af73b",
   "metadata": {
    "scrolled": true
   },
   "outputs": [
    {
     "name": "stdout",
     "output_type": "stream",
     "text": [
      "Voice: Microsoft David Desktop - English (United States), ID: HKEY_LOCAL_MACHINE\\SOFTWARE\\Microsoft\\Speech\\Voices\\Tokens\\TTS_MS_EN-US_DAVID_11.0, Languages: []\n",
      "Voice: Microsoft Zira Desktop - English (United States), ID: HKEY_LOCAL_MACHINE\\SOFTWARE\\Microsoft\\Speech\\Voices\\Tokens\\TTS_MS_EN-US_ZIRA_11.0, Languages: []\n"
     ]
    }
   ],
   "source": [
    "import pyttsx3\n",
    "\n",
    "# Initialize the pyttsx3 engine\n",
    "engine = pyttsx3.init()\n",
    "\n",
    "# Get a list of available voices\n",
    "voices = engine.getProperty('voices')\n",
    "\n",
    "# Print the details of each voice\n",
    "for voice in voices:\n",
    "    print(f\"Voice: {voice.name}, ID: {voice.id}, Languages: {voice.languages}\")\n",
    "\n",
    "# Find and set the voice that supports Hindi\n",
    "for voice in voices:\n",
    "    if 'hi' in voice.languages:\n",
    "        engine.setProperty('voice', voice.id)\n",
    "        break\n",
    "\n",
    "# Set the text to be spoken\n",
    "text = \"g\"\n",
    "\n",
    "# Convert the text to speech and play it\n",
    "engine.say(text)\n",
    "engine.runAndWait()"
   ]
  },
  {
   "cell_type": "code",
   "execution_count": 4,
   "id": "377b0b81-3583-47d6-b8f6-8dbe587d45ef",
   "metadata": {},
   "outputs": [
    {
     "data": {
      "text/plain": [
       "1"
      ]
     },
     "execution_count": 4,
     "metadata": {},
     "output_type": "execute_result"
    }
   ],
   "source": [
    "from gtts import gTTS\n",
    "import os\n",
    "\n",
    "text = \"नमस्ते, आप कैसे हैं आज?\"\n",
    "tts = gTTS(text=text, lang='hi')\n",
    "tts.save(\"hindi.mp3\")\n",
    "os.system(\"mpg321 hindi.mp3\")"
   ]
  },
  {
   "cell_type": "code",
   "execution_count": 5,
   "id": "a20c6a92-d38f-4eb5-a1f5-3f07552d6367",
   "metadata": {},
   "outputs": [],
   "source": [
    "import tkinter as tk\n",
    "from tkinter import ttk\n",
    "from gtts import gTTS\n",
    "import os\n",
    "\n",
    "def convert_text_to_speech():\n",
    "    text = text_entry.get(\"1.0\", tk.END).strip()\n",
    "    lang = languages[language_combobox.get()]\n",
    "    tts = gTTS(text=text, lang=lang, slow=False)\n",
    "    tts.save(\"output.mp3\")\n",
    "    os.system(\"start output.mp3\")\n",
    "\n",
    "languages = {\n",
    "    'English': 'en',\n",
    "    'Hindi': 'hi',\n",
    "    'French': 'fr',\n",
    "    'Spanish': 'es',\n",
    "    'German': 'de',\n",
    "    'Chinese': 'zh-cn'\n",
    "}\n",
    "\n",
    "root = tk.Tk()\n",
    "root.title(\"Text to Speech Converter\")\n",
    "\n",
    "tk.Label(root, text=\"Enter text:\").pack()\n",
    "text_entry = tk.Text(root, height=10, width=50)\n",
    "text_entry.pack()\n",
    "\n",
    "tk.Label(root, text=\"Select language:\").pack()\n",
    "language_combobox = ttk.Combobox(root, values=list(languages.keys()))\n",
    "language_combobox.pack()\n",
    "language_combobox.current(1) \n",
    "\n",
    "convert_button = tk.Button(root, text=\"Convert\", command=convert_text_to_speech)\n",
    "convert_button.pack()\n",
    "\n",
    "root.mainloop()"
   ]
  },
  {
   "cell_type": "code",
   "execution_count": null,
   "id": "e446a53f-159d-4aeb-8e43-504eb759fff3",
   "metadata": {},
   "outputs": [],
   "source": []
  }
 ],
 "metadata": {
  "kernelspec": {
   "display_name": "Python 3 (ipykernel)",
   "language": "python",
   "name": "python3"
  },
  "language_info": {
   "codemirror_mode": {
    "name": "ipython",
    "version": 3
   },
   "file_extension": ".py",
   "mimetype": "text/x-python",
   "name": "python",
   "nbconvert_exporter": "python",
   "pygments_lexer": "ipython3",
   "version": "3.11.7"
  }
 },
 "nbformat": 4,
 "nbformat_minor": 5
}
